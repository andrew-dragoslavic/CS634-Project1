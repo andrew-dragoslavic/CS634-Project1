{
 "cells": [
  {
   "cell_type": "code",
   "execution_count": 1,
   "metadata": {},
   "outputs": [],
   "source": [
    "from itertools import combinations\n",
    "import pandas as pd"
   ]
  },
  {
   "cell_type": "code",
   "execution_count": 2,
   "metadata": {},
   "outputs": [],
   "source": [
    "def convertToSet(transactions):\n",
    "    return set(transactions.split(\", \"))"
   ]
  },
  {
   "cell_type": "code",
   "execution_count": 3,
   "metadata": {},
   "outputs": [],
   "source": [
    "transactions = pd.read_csv(\"Amazon Transactions.csv\")\n",
    "transactions[\"Transaction\"] = transactions[\"Transaction\"].apply(convertToSet)\n",
    "itemset = pd.read_csv(\"Amazon Items.csv\")\n",
    "support = 45\n",
    "confidence = 90\n",
    "threshold = (support / 100) * len(transactions)"
   ]
  },
  {
   "cell_type": "code",
   "execution_count": 4,
   "metadata": {},
   "outputs": [],
   "source": [
    "def generateItemsets(prevItemsets, transactions, threshold, k):\n",
    "    itemsets = {}\n",
    "    itemList = list(prevItemsets.keys())\n",
    "\n",
    "    for combo in combinations(itemList, k):\n",
    "        combo = set(combo)\n",
    "        count = sum(\n",
    "            1\n",
    "            for transaction in transactions[\"Transaction\"]\n",
    "            if combo.issubset(transaction)\n",
    "        )\n",
    "        if count >= threshold:\n",
    "            itemsets[tuple(combo)] = count\n",
    "    return itemsets"
   ]
  },
  {
   "cell_type": "code",
   "execution_count": 5,
   "metadata": {},
   "outputs": [],
   "source": [
    "def generateRules(itemsets, transactions, min_support, min_confidence):\n",
    "    # Go through the final dictionary and if the length is only one item ignore it\n",
    "    # If the length is more than two generate all the possible combinations\n",
    "    for itemset in itemsets.keys():\n",
    "        k = len(itemset)\n",
    "        if k < 2:\n",
    "            continue\n",
    "        for i in range(1, k):\n",
    "            for combo in combinations(itemset, i):\n",
    "                start = set(combo)\n",
    "                itemset = set(itemset)\n",
    "                res = itemset - start\n",
    "                start_support = sum(\n",
    "                    1\n",
    "                    for transaction in transactions[\"Transaction\"]\n",
    "                    if start.issubset(transaction)\n",
    "                )\n",
    "                rule_support = sum(\n",
    "                    1\n",
    "                    for transaction in transactions[\"Transaction\"]\n",
    "                    if itemset.issubset(transaction)\n",
    "                )\n",
    "                confidence = rule_support / start_support\n",
    "                if confidence >= min_confidence / 100:\n",
    "                    print(\n",
    "                        f\"\\nRule: {', '.join(start)} -> {', '.join(res)}, Confidence: {confidence}\"\n",
    "                    )"
   ]
  },
  {
   "cell_type": "code",
   "execution_count": 6,
   "metadata": {},
   "outputs": [],
   "source": [
    "def generateFrequentItems(itemsets):\n",
    "    freq = []\n",
    "    freqString = \"\"\"\\nFrequent Items: \"\"\"\n",
    "    for itemset in itemsets:\n",
    "        freq.append(itemset)\n",
    "    for i in range(len(freq)):\n",
    "        freqString += \"{\" + \", \".join(freq[i]) + \"}\"\n",
    "        if i < len(freq) - 1:\n",
    "            freqString += \", \"\n",
    "    return freqString"
   ]
  },
  {
   "cell_type": "code",
   "execution_count": 7,
   "metadata": {},
   "outputs": [],
   "source": [
    "def apriori(transactions, min_support, min_confidence):\n",
    "    itemsets = {}\n",
    "    results = {}\n",
    "\n",
    "    for index, row in transactions.iterrows():\n",
    "        for item in row[\"Transaction\"]:\n",
    "            itemsets[item] = itemsets.get(item, 0) + 1\n",
    "\n",
    "    threshold = (min_support / 100) * len(transactions)\n",
    "    itemsets = {k: v for k, v in itemsets.items() if v >= threshold}\n",
    "    # results.update(itemsets)\n",
    "    k = 1\n",
    "\n",
    "    while True:\n",
    "        new = generateItemsets(itemsets, transactions, threshold, k)\n",
    "        if not new:\n",
    "            break\n",
    "        results.update(new)\n",
    "        k += 1\n",
    "    generateRules(results, transactions, min_support, min_confidence)\n",
    "\n",
    "    return results"
   ]
  },
  {
   "cell_type": "code",
   "execution_count": 8,
   "metadata": {},
   "outputs": [
    {
     "name": "stdout",
     "output_type": "stream",
     "text": [
      "\n",
      "Rule: Java: The Complete Reference -> A Beginner’s Guide, Confidence: 0.9\n",
      "\n",
      "Rule: Java: The Complete Reference -> Java For Dummies, Confidence: 1.0\n",
      "\n",
      "Rule: Java: The Complete Reference -> A Beginner’s Guide, Java For Dummies, Confidence: 0.9\n",
      "\n",
      "Rule: A Beginner’s Guide, Java: The Complete Reference -> Java For Dummies, Confidence: 1.0\n",
      "\n",
      "Rule: A Beginner’s Guide, Java For Dummies -> Java: The Complete Reference, Confidence: 1.0\n",
      "\n",
      "Rule: Java: The Complete Reference, Java For Dummies -> A Beginner’s Guide, Confidence: 0.9\n",
      "\n",
      "Frequent Items: {A Beginner’s Guide}, {Java: The Complete Reference}, {Android Programming: The Big Nerd Ranch}, {Java For Dummies}, {A Beginner’s Guide, Java: The Complete Reference}, {A Beginner’s Guide, Java For Dummies}, {Java: The Complete Reference, Java For Dummies}, {Android Programming: The Big Nerd Ranch, Java For Dummies}, {A Beginner’s Guide, Java: The Complete Reference, Java For Dummies}\n"
     ]
    }
   ],
   "source": [
    "results = apriori(transactions, 45, 90)\n",
    "print(generateFrequentItems(results))"
   ]
  },
  {
   "cell_type": "code",
   "execution_count": 9,
   "metadata": {},
   "outputs": [],
   "source": [
    "from apriori_python.apriori import apriori"
   ]
  },
  {
   "cell_type": "code",
   "execution_count": 10,
   "metadata": {},
   "outputs": [
    {
     "name": "stdout",
     "output_type": "stream",
     "text": [
      "[['A Beginner’s Guide', 'Java: The Complete Reference', 'Java For Dummies', 'Android Programming: The Big Nerd Ranch'], ['A Beginner’s Guide', 'Java: The Complete Reference', 'Java For Dummies'], ['A Beginner’s Guide', 'Java: The Complete Reference', 'Java For Dummies', 'Android Programming: The Big Nerd Ranch', 'Head First Java 2nd Edition'], ['Android Programming: The Big Nerd Ranch', 'Head First Java 2nd Edition ', 'Beginning Programming with Java'], ['Android Programming: The Big Nerd Ranch', 'Beginning Programming with Java', 'Java 8 Pocket Guide'], ['A Beginner’s Guide', 'Android Programming: The Big Nerd Ranch', 'Head First Java 2nd Edition'], ['A Beginner’s Guide', 'Head First Java 2nd Edition ', 'Beginning Programming with Java'], ['Java: The Complete Reference', 'Java For Dummies', 'Android Programming: The Big Nerd Ranch'], ['Java For Dummies', 'Android Programming: The Big Nerd Ranch', 'Head First Java 2nd Edition ', 'Beginning Programming with Java'], ['Beginning Programming with Java', 'Java 8 Pocket Guide', 'C++ Programming in Easy Steps'], ['A Beginner’s Guide', 'Java: The Complete Reference', 'Java For Dummies', 'Android Programming: The Big Nerd Ranch'], ['A Beginner’s Guide', 'Java: The Complete Reference', 'Java For Dummies', 'HTML and CSS: Design and Build Websites'], ['A Beginner’s Guide', 'Java: The Complete Reference', 'Java For Dummies', 'Java 8 Pocket Guide', 'HTML and CSS: Design and Build Websites'], ['Java For Dummies', 'Android Programming: The Big Nerd Ranch', 'Head First Java 2nd Edition'], ['Java For Dummies', 'Android Programming: The Big Nerd Ranch'], ['A Beginner’s Guide', 'Java: The Complete Reference', 'Java For Dummies', 'Android Programming: The Big Nerd Ranch'], ['A Beginner’s Guide', 'Java: The Complete Reference', 'Java For Dummies', 'Android Programming: The Big Nerd Ranch'], ['Head First Java 2nd Edition ', 'Beginning Programming with Java', 'Java 8 Pocket Guide'], ['Android Programming: The Big Nerd Ranch', 'Head First Java 2nd Edition'], ['A Beginner’s Guide', 'Java: The Complete Reference', 'Java For Dummies']]\n"
     ]
    }
   ],
   "source": [
    "items = pd.read_csv('Amazon Items.csv')\n",
    "transactions = pd.read_csv('Amazon Transactions.csv')\n",
    "itemsList = []\n",
    "for index, row in transactions.iterrows():\n",
    "    itemSet = row['Transaction'].split(', ')\n",
    "    itemsList.append(itemSet)\n",
    "print(itemsList)"
   ]
  },
  {
   "cell_type": "code",
   "execution_count": 11,
   "metadata": {},
   "outputs": [],
   "source": [
    "minSupport = 0.45\n",
    "minConf = 0.9\n",
    "\n",
    "freqItemSet, rules = apriori(itemsList, minSupport, minConf)"
   ]
  },
  {
   "cell_type": "code",
   "execution_count": 12,
   "metadata": {},
   "outputs": [
    {
     "name": "stdout",
     "output_type": "stream",
     "text": [
      "Rule 1: [{'Java: The Complete Reference'}, {'Java For Dummies'}, 1.0]\n",
      "\n",
      "Rule 2: [{'A Beginner’s Guide', 'Java: The Complete Reference'}, {'Java For Dummies'}, 1.0]\n",
      "\n",
      "Rule 3: [{'A Beginner’s Guide', 'Java For Dummies'}, {'Java: The Complete Reference'}, 1.0]\n",
      "\n",
      "{1: {frozenset({'A Beginner’s Guide'}), frozenset({'Java For Dummies'}), frozenset({'Android Programming: The Big Nerd Ranch'}), frozenset({'Java: The Complete Reference'})}, 2: {frozenset({'Android Programming: The Big Nerd Ranch', 'Java For Dummies'}), frozenset({'A Beginner’s Guide', 'Java For Dummies'}), frozenset({'A Beginner’s Guide', 'Java: The Complete Reference'}), frozenset({'Java: The Complete Reference', 'Java For Dummies'})}, 3: {frozenset({'A Beginner’s Guide', 'Java: The Complete Reference', 'Java For Dummies'})}}\n"
     ]
    }
   ],
   "source": [
    "for i, rule in enumerate(rules):\n",
    "    print(f\"Rule {i+1}: {rule}\\n\")\n",
    "\n",
    "print(freqItemSet)"
   ]
  },
  {
   "cell_type": "code",
   "execution_count": 13,
   "metadata": {},
   "outputs": [],
   "source": [
    "from fpgrowth_py import fpgrowth"
   ]
  },
  {
   "cell_type": "code",
   "execution_count": 14,
   "metadata": {},
   "outputs": [
    {
     "name": "stdout",
     "output_type": "stream",
     "text": [
      "[[{'A Beginner’s Guide', 'Java: The Complete Reference'}, {'Java For Dummies'}, 1.0], [{'A Beginner’s Guide', 'Java For Dummies'}, {'Java: The Complete Reference'}, 1.0], [{'Java: The Complete Reference'}, {'Java For Dummies'}, 1.0]]\n"
     ]
    }
   ],
   "source": [
    "freqItemSet, rules = fpgrowth(itemsList, minSupport, minConf)\n",
    "print(rules)"
   ]
  }
 ],
 "metadata": {
  "kernelspec": {
   "display_name": "Python 3",
   "language": "python",
   "name": "python3"
  },
  "language_info": {
   "codemirror_mode": {
    "name": "ipython",
    "version": 3
   },
   "file_extension": ".py",
   "mimetype": "text/x-python",
   "name": "python",
   "nbconvert_exporter": "python",
   "pygments_lexer": "ipython3",
   "version": "3.9.0"
  }
 },
 "nbformat": 4,
 "nbformat_minor": 2
}
